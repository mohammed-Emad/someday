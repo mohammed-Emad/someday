{
  "nbformat": 4,
  "nbformat_minor": 0,
  "metadata": {
    "colab": {
      "name": "Untitled132.ipynb",
      "provenance": []
    },
    "kernelspec": {
      "name": "python3",
      "display_name": "Python 3"
    },
    "language_info": {
      "name": "python"
    },
    "accelerator": "GPU"
  },
  "cells": [
    {
      "cell_type": "code",
      "execution_count": 1,
      "metadata": {
        "colab": {
          "base_uri": "https://localhost:8080/"
        },
        "id": "JnlNIwoFKCo-",
        "outputId": "2e85d54e-4f1a-47cf-8795-2e1476f23495"
      },
      "outputs": [
        {
          "output_type": "stream",
          "name": "stdout",
          "text": [
            "Cloning into 'StackGAN-v2'...\n",
            "remote: Enumerating objects: 96, done.\u001b[K\n",
            "remote: Total 96 (delta 0), reused 0 (delta 0), pack-reused 96\u001b[K\n",
            "Unpacking objects: 100% (96/96), done.\n"
          ]
        }
      ],
      "source": [
        "!git clone https://github.com/hanzhanggit/StackGAN-v2.git"
      ]
    },
    {
      "cell_type": "code",
      "source": [
        "from google.colab import drive\n",
        "drive.mount('/content/drive')"
      ],
      "metadata": {
        "colab": {
          "base_uri": "https://localhost:8080/"
        },
        "id": "YuCxTQl4H-SL",
        "outputId": "025b0fde-3f65-4001-f8e5-4479ca653058"
      },
      "execution_count": 4,
      "outputs": [
        {
          "output_type": "stream",
          "name": "stdout",
          "text": [
            "Mounted at /content/drive\n"
          ]
        }
      ]
    },
    {
      "cell_type": "code",
      "source": [
        "%cd /content/StackGAN-v2/code"
      ],
      "metadata": {
        "colab": {
          "base_uri": "https://localhost:8080/"
        },
        "id": "9AMWTklDKHpj",
        "outputId": "fa8fea28-6b90-41ef-fd92-0c5cdb6b0309"
      },
      "execution_count": 2,
      "outputs": [
        {
          "output_type": "stream",
          "name": "stdout",
          "text": [
            "/content/StackGAN-v2/code\n"
          ]
        }
      ]
    },
    {
      "cell_type": "code",
      "source": [
        "!python main.py --cfg cfg/birds_3stages.yml --gpu 0 "
      ],
      "metadata": {
        "colab": {
          "base_uri": "https://localhost:8080/"
        },
        "id": "fhPVQnDgKH0v",
        "outputId": "717a322a-ef24-4e6e-f046-45a5c6af5df1"
      },
      "execution_count": 3,
      "outputs": [
        {
          "output_type": "stream",
          "name": "stdout",
          "text": [
            "Traceback (most recent call last):\n",
            "  File \"main.py\", line 75, in <module>\n",
            "    cfg_from_file(args.cfg_file)\n",
            "  File \"/content/StackGAN-v2/code/miscc/config.py\", line 105, in cfg_from_file\n",
            "    _merge_a_into_b(yaml_cfg, __C)\n",
            "  File \"/content/StackGAN-v2/code/miscc/config.py\", line 73, in _merge_a_into_b\n",
            "    for k, v in a.iteritems():\n",
            "AttributeError: 'EasyDict' object has no attribute 'iteritems'\n"
          ]
        }
      ]
    },
    {
      "cell_type": "code",
      "source": [
        "with open('/content/drive/MyDrive/Copy of DCGAN_POR.ipynb', \"r\") as file:\n",
        "     t = file.readlines()"
      ],
      "metadata": {
        "id": "sbCYhNU9JQ7M"
      },
      "execution_count": 12,
      "outputs": []
    },
    {
      "cell_type": "code",
      "source": [
        "for j in t:\n",
        "    if j.rfind(\"drive\") >-1:\n",
        "       print(j)"
      ],
      "metadata": {
        "colab": {
          "base_uri": "https://localhost:8080/"
        },
        "id": "FjFKF2ylKC52",
        "outputId": "46e36abb-e779-4bf8-f265-fb4530e2efa7"
      },
      "execution_count": 16,
      "outputs": [
        {
          "output_type": "stream",
          "name": "stderr",
          "text": [
            "IOPub data rate exceeded.\n",
            "The notebook server will temporarily stop sending output\n",
            "to the client in order to avoid crashing it.\n",
            "To change this limit, set the config variable\n",
            "`--NotebookApp.iopub_data_rate_limit`.\n",
            "\n",
            "Current values:\n",
            "NotebookApp.iopub_data_rate_limit=1000000.0 (bytes/sec)\n",
            "NotebookApp.rate_limit_window=3.0 (secs)\n",
            "\n"
          ]
        }
      ]
    },
    {
      "cell_type": "code",
      "source": [
        "t.find(\"png\") "
      ],
      "metadata": {
        "colab": {
          "base_uri": "https://localhost:8080/"
        },
        "id": "HnAtAsh0JfNo",
        "outputId": "7d41ae9d-db6b-49a7-f06c-d013dcad67e7"
      },
      "execution_count": 9,
      "outputs": [
        {
          "output_type": "execute_result",
          "data": {
            "text/plain": [
              "1756"
            ]
          },
          "metadata": {},
          "execution_count": 9
        }
      ]
    },
    {
      "cell_type": "code",
      "source": [
        ""
      ],
      "metadata": {
        "id": "wkBXtYDPJ8l9"
      },
      "execution_count": null,
      "outputs": []
    },
    {
      "cell_type": "code",
      "source": [
        "t[1756:1756+100]"
      ],
      "metadata": {
        "colab": {
          "base_uri": "https://localhost:8080/",
          "height": 35
        },
        "id": "xxpqb2DQJu84",
        "outputId": "58e972db-df3f-49c2-9b6b-98e1fa2a33b0"
      },
      "execution_count": 11,
      "outputs": [
        {
          "output_type": "execute_result",
          "data": {
            "text/plain": [
              "'png|bmp)\\', f, flags=re.I)]\\\\n\",\"\\\\n\",\"\\\\n\",\"pph = DATA_DIR.split(os.sep) \\\\n\",\"xd = pph[-1] if pph[-1] e'"
            ],
            "application/vnd.google.colaboratory.intrinsic+json": {
              "type": "string"
            }
          },
          "metadata": {},
          "execution_count": 11
        }
      ]
    },
    {
      "cell_type": "code",
      "source": [
        "%ls /content/drive/MyDrive/*POR*"
      ],
      "metadata": {
        "colab": {
          "base_uri": "https://localhost:8080/"
        },
        "id": "df6xgkbLJG6v",
        "outputId": "7ee14531-3ad1-4735-9972-64146baea20e"
      },
      "execution_count": 5,
      "outputs": [
        {
          "output_type": "stream",
          "name": "stdout",
          "text": [
            "'/content/drive/MyDrive/Copy of DCGAN_POR.ipynb'\n"
          ]
        }
      ]
    }
  ]
}